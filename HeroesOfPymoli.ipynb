{
 "cells": [
  {
   "cell_type": "markdown",
   "metadata": {},
   "source": [
    "### Heroes Of Pymoli Data Analysis\n",
    "* Of the 1163 active players, the vast majority are male (84%). There also exists, a smaller, but notable proportion of female players (14%).\n",
    "\n",
    "* Our peak age demographic falls between 20-24 (44.8%) with secondary groups falling between 15-19 (18.60%) and 25-29 (13.4%).  \n",
    "-----"
   ]
  },
  {
   "cell_type": "markdown",
   "metadata": {},
   "source": [
    "### Note\n",
    "* Instructions have been included for each segment. You do not have to follow them exactly, but they are included to help you think through the steps."
   ]
  },
  {
   "cell_type": "code",
   "execution_count": 223,
   "metadata": {},
   "outputs": [],
   "source": [
    "# Dependencies and Setup\n",
    "import pandas as pd\n",
    "\n",
    "# File to Load (Remember to Change These)\n",
    "file_to_load = \"purchase_data.csv\"\n",
    "\n",
    "# Read Purchasing File and store into Pandas data frame\n",
    "purchase_data = pd.read_csv(file_to_load)\n",
    "purchase_data_pure = pd.read_csv(file_to_load)"
   ]
  },
  {
   "cell_type": "markdown",
   "metadata": {},
   "source": [
    "## Player Count"
   ]
  },
  {
   "cell_type": "markdown",
   "metadata": {},
   "source": [
    "* Display the total number of players\n"
   ]
  },
  {
   "cell_type": "code",
   "execution_count": 224,
   "metadata": {},
   "outputs": [
    {
     "data": {
      "text/plain": [
       "576"
      ]
     },
     "execution_count": 224,
     "metadata": {},
     "output_type": "execute_result"
    }
   ],
   "source": [
    "#find total number of players\n",
    "purchase_data.head()\n",
    "count = purchase_data['SN'].value_counts()\n",
    "total_count = len(count)\n",
    "total_count"
   ]
  },
  {
   "cell_type": "markdown",
   "metadata": {},
   "source": [
    "## Purchasing Analysis (Total)"
   ]
  },
  {
   "cell_type": "markdown",
   "metadata": {},
   "source": [
    "* Run basic calculations to obtain number of unique items, average price, etc.\n",
    "\n",
    "\n",
    "* Create a summary data frame to hold the results\n",
    "\n",
    "\n",
    "* Optional: give the displayed data cleaner formatting\n",
    "\n",
    "\n",
    "* Display the summary data frame\n"
   ]
  },
  {
   "cell_type": "code",
   "execution_count": 225,
   "metadata": {
    "scrolled": true
   },
   "outputs": [
    {
     "data": {
      "text/plain": [
       "179"
      ]
     },
     "execution_count": 225,
     "metadata": {},
     "output_type": "execute_result"
    }
   ],
   "source": [
    "#unique items\n",
    "unique_item = purchase_data['Item ID'].unique()\n",
    "len(unique_item)"
   ]
  },
  {
   "cell_type": "code",
   "execution_count": 226,
   "metadata": {},
   "outputs": [
    {
     "data": {
      "text/plain": [
       "3.050987179487176"
      ]
     },
     "execution_count": 226,
     "metadata": {},
     "output_type": "execute_result"
    }
   ],
   "source": [
    "#average price\n",
    "average_price = purchase_data['Price'].mean()\n",
    "average_price"
   ]
  },
  {
   "cell_type": "code",
   "execution_count": 227,
   "metadata": {},
   "outputs": [
    {
     "data": {
      "text/plain": [
       "780"
      ]
     },
     "execution_count": 227,
     "metadata": {},
     "output_type": "execute_result"
    }
   ],
   "source": [
    "#total purchases\n",
    "total_purchases = purchase_data['Purchase ID'].value_counts()\n",
    "len(total_purchases)"
   ]
  },
  {
   "cell_type": "code",
   "execution_count": 228,
   "metadata": {},
   "outputs": [
    {
     "data": {
      "text/plain": [
       "2379.77"
      ]
     },
     "execution_count": 228,
     "metadata": {},
     "output_type": "execute_result"
    }
   ],
   "source": [
    "#total revenue\n",
    "total_revenue = purchase_data['Price'].sum()\n",
    "total_revenue"
   ]
  },
  {
   "cell_type": "code",
   "execution_count": 229,
   "metadata": {},
   "outputs": [
    {
     "data": {
      "text/html": [
       "<div>\n",
       "<style scoped>\n",
       "    .dataframe tbody tr th:only-of-type {\n",
       "        vertical-align: middle;\n",
       "    }\n",
       "\n",
       "    .dataframe tbody tr th {\n",
       "        vertical-align: top;\n",
       "    }\n",
       "\n",
       "    .dataframe thead th {\n",
       "        text-align: right;\n",
       "    }\n",
       "</style>\n",
       "<table border=\"1\" class=\"dataframe\">\n",
       "  <thead>\n",
       "    <tr style=\"text-align: right;\">\n",
       "      <th></th>\n",
       "      <th>Number of Uniqe Items</th>\n",
       "      <th>Average Price</th>\n",
       "      <th>Number of Purchases</th>\n",
       "      <th>Total Revenue</th>\n",
       "    </tr>\n",
       "  </thead>\n",
       "  <tbody>\n",
       "    <tr>\n",
       "      <td>0</td>\n",
       "      <td>179</td>\n",
       "      <td>$3.05</td>\n",
       "      <td>780</td>\n",
       "      <td>$2379.77</td>\n",
       "    </tr>\n",
       "  </tbody>\n",
       "</table>\n",
       "</div>"
      ],
      "text/plain": [
       "   Number of Uniqe Items Average Price  Number of Purchases Total Revenue\n",
       "0                    179         $3.05                  780      $2379.77"
      ]
     },
     "execution_count": 229,
     "metadata": {},
     "output_type": "execute_result"
    }
   ],
   "source": [
    "#create df\n",
    "summary_data = pd.DataFrame({\"Number of Uniqe Items\": [179],\n",
    "                            \"Average Price\": [\"$3.05\"],\n",
    "                            \"Number of Purchases\": [780],\n",
    "                            \"Total Revenue\": [\"$2379.77\"]})\n",
    "summary_data"
   ]
  },
  {
   "cell_type": "markdown",
   "metadata": {},
   "source": [
    "## Gender Demographics"
   ]
  },
  {
   "cell_type": "markdown",
   "metadata": {},
   "source": [
    "* Percentage and Count of Male Players\n",
    "\n",
    "\n",
    "* Percentage and Count of Female Players\n",
    "\n",
    "\n",
    "* Percentage and Count of Other / Non-Disclosed\n",
    "\n",
    "\n"
   ]
  },
  {
   "cell_type": "code",
   "execution_count": 230,
   "metadata": {},
   "outputs": [
    {
     "data": {
      "text/plain": [
       "Male                     484\n",
       "Female                    81\n",
       "Other / Non-Disclosed     11\n",
       "Name: Gender, dtype: int64"
      ]
     },
     "execution_count": 230,
     "metadata": {},
     "output_type": "execute_result"
    }
   ],
   "source": [
    "# dropping ALL duplicte values \n",
    "purchase_data_drop = purchase_data.drop_duplicates(subset =\"SN\", keep = 'first', inplace = True )\n",
    "#purchase_data\n",
    "count = purchase_data[\"Gender\"].value_counts()\n",
    "count"
   ]
  },
  {
   "cell_type": "code",
   "execution_count": 231,
   "metadata": {},
   "outputs": [
    {
     "data": {
      "text/plain": [
       "'14.06%'"
      ]
     },
     "execution_count": 231,
     "metadata": {},
     "output_type": "execute_result"
    }
   ],
   "source": [
    "#females\n",
    "only_females = purchase_data.loc[purchase_data[\"Gender\"] == \"Female\", :]\n",
    "female_count = len(only_females)\n",
    "female_count\n",
    "female_percent = ((female_count/total_count)* 100)\n",
    "female_percent = str(round(female_percent, 2)) + str(\"%\")\n",
    "female_percent"
   ]
  },
  {
   "cell_type": "code",
   "execution_count": 232,
   "metadata": {},
   "outputs": [
    {
     "data": {
      "text/plain": [
       "'84.03%'"
      ]
     },
     "execution_count": 232,
     "metadata": {},
     "output_type": "execute_result"
    }
   ],
   "source": [
    "#males\n",
    "only_males = purchase_data.loc[purchase_data[\"Gender\"] == \"Male\", :]\n",
    "male_count = len(only_males)\n",
    "male_percent = ((male_count/total_count)* 100)\n",
    "male_percent = str(round(male_percent, 2)) + str(\"%\")\n",
    "male_percent"
   ]
  },
  {
   "cell_type": "code",
   "execution_count": 233,
   "metadata": {},
   "outputs": [
    {
     "data": {
      "text/plain": [
       "'1.91%'"
      ]
     },
     "execution_count": 233,
     "metadata": {},
     "output_type": "execute_result"
    }
   ],
   "source": [
    "#Other / Non-Disclosed\n",
    "only_other = purchase_data.loc[purchase_data[\"Gender\"] == \"Other / Non-Disclosed\", :]\n",
    "other_count = len(only_other)\n",
    "other_percent = ((other_count/total_count)* 100)\n",
    "other_percent = str(round(other_percent, 2)) + str(\"%\")\n",
    "other_percent"
   ]
  },
  {
   "cell_type": "code",
   "execution_count": 234,
   "metadata": {},
   "outputs": [
    {
     "data": {
      "text/html": [
       "<div>\n",
       "<style scoped>\n",
       "    .dataframe tbody tr th:only-of-type {\n",
       "        vertical-align: middle;\n",
       "    }\n",
       "\n",
       "    .dataframe tbody tr th {\n",
       "        vertical-align: top;\n",
       "    }\n",
       "\n",
       "    .dataframe thead th {\n",
       "        text-align: right;\n",
       "    }\n",
       "</style>\n",
       "<table border=\"1\" class=\"dataframe\">\n",
       "  <thead>\n",
       "    <tr style=\"text-align: right;\">\n",
       "      <th></th>\n",
       "      <th>Total Count</th>\n",
       "      <th>Percentage of Players</th>\n",
       "    </tr>\n",
       "    <tr>\n",
       "      <th></th>\n",
       "      <th></th>\n",
       "      <th></th>\n",
       "    </tr>\n",
       "  </thead>\n",
       "  <tbody>\n",
       "    <tr>\n",
       "      <td>Male</td>\n",
       "      <td>484</td>\n",
       "      <td>84.03%</td>\n",
       "    </tr>\n",
       "    <tr>\n",
       "      <td>Female</td>\n",
       "      <td>81</td>\n",
       "      <td>14.06%</td>\n",
       "    </tr>\n",
       "    <tr>\n",
       "      <td>Other/Non-Disclosed</td>\n",
       "      <td>11</td>\n",
       "      <td>1.91%</td>\n",
       "    </tr>\n",
       "  </tbody>\n",
       "</table>\n",
       "</div>"
      ],
      "text/plain": [
       "                     Total Count Percentage of Players\n",
       "                                                      \n",
       "Male                         484                84.03%\n",
       "Female                        81                14.06%\n",
       "Other/Non-Disclosed           11                 1.91%"
      ]
     },
     "execution_count": 234,
     "metadata": {},
     "output_type": "execute_result"
    }
   ],
   "source": [
    "#create df\n",
    "gender_demo = pd.DataFrame({\n",
    "    \" \":[\"Male\", \"Female\", \"Other/Non-Disclosed\"],\n",
    "    \"Total Count\":[male_count,female_count,other_count],\n",
    "    \"Percentage of Players\":[male_percent, female_percent, other_percent]})\n",
    "gender_demo.set_index(\" \")"
   ]
  },
  {
   "cell_type": "markdown",
   "metadata": {},
   "source": [
    "\n",
    "## Purchasing Analysis (Gender)"
   ]
  },
  {
   "cell_type": "markdown",
   "metadata": {},
   "source": [
    "* Run basic calculations to obtain purchase count, avg. purchase price, avg. purchase total per person etc. by gender\n",
    "\n",
    "\n",
    "\n",
    "\n",
    "* Create a summary data frame to hold the results\n",
    "\n",
    "\n",
    "* Optional: give the displayed data cleaner formatting\n",
    "\n",
    "\n",
    "* Display the summary data frame"
   ]
  },
  {
   "cell_type": "code",
   "execution_count": 235,
   "metadata": {},
   "outputs": [],
   "source": [
    "#total female purchases\n",
    "female_purchase_count = purchase_data_pure.loc[purchase_data_pure[\"Gender\"] == \"Female\", \"Purchase ID\"]\n",
    "female_purchase_count = len(female_purchase_count) \n",
    "female_purchase_count\n",
    "\n",
    "#Average Female purchase price\n",
    "female_purchases = purchase_data_pure.loc[purchase_data_pure[\"Gender\"] == \"Female\", \"Price\"].mean()\n",
    "#female_purchases = str('$') + str(round(female_purchases, 2))\n",
    "female_purchases = \"$%.2f\" % round(female_purchases, 2)\n",
    "female_purchases\n",
    "\n",
    "#total purchase value\n",
    "female_sum = purchase_data_pure.loc[purchase_data_pure[\"Gender\"] == \"Female\", \"Price\"].sum()\n",
    "female_sums = str('$') + str(round(female_sum, 2))\n",
    "\n",
    "#Average purchase per female\n",
    "average_female = round((female_sum/female_count), 2)\n",
    "average_females = str('$') + str(average_female)"
   ]
  },
  {
   "cell_type": "code",
   "execution_count": 236,
   "metadata": {},
   "outputs": [],
   "source": [
    "#number of male purchases\n",
    "male_purchase_count = purchase_data_pure.loc[purchase_data_pure[\"Gender\"] == \"Male\", \"Purchase ID\"]\n",
    "male_purchase_count = len(male_purchase_count) \n",
    "male_purchase_count\n",
    "\n",
    "#Average male purchase price\n",
    "male_purchases = purchase_data_pure.loc[purchase_data_pure[\"Gender\"] == \"Male\", \"Price\"].mean()\n",
    "male_purchases = str('$') + str(round(male_purchases, 2))\n",
    "male_purchases\n",
    "\n",
    "#total purchase value\n",
    "male_sum = purchase_data_pure.loc[purchase_data_pure[\"Gender\"] == \"Male\", \"Price\"].sum()\n",
    "male_sums = str('$') + str(round(male_sum, 2))\n",
    "\n",
    "#Average purchase per female\n",
    "average_male = round((male_sum/male_count), 2)\n",
    "average_males = str('$') + str(average_male)"
   ]
  },
  {
   "cell_type": "code",
   "execution_count": 237,
   "metadata": {},
   "outputs": [],
   "source": [
    "#number of other purchases\n",
    "other_purchase_count = purchase_data_pure.loc[purchase_data_pure[\"Gender\"] == \"Other / Non-Disclosed\", \"Purchase ID\"]\n",
    "other_purchase_count = len(other_purchase_count) \n",
    "other_purchase_count\n",
    "\n",
    "#Average other purchase price\n",
    "other_purchases = purchase_data_pure.loc[purchase_data_pure[\"Gender\"] == \"Other / Non-Disclosed\", \"Price\"].mean()\n",
    "other_purchases = str('$') + str(round(other_purchases, 2))\n",
    "\n",
    "#total purchase value\n",
    "other_sum = purchase_data_pure.loc[purchase_data_pure[\"Gender\"] == \"Other / Non-Disclosed\", \"Price\"].sum()\n",
    "other_sums = str('$') + str(round(other_sum, 2))\n",
    "\n",
    "#Average purchase per female\n",
    "average_other = round((other_sum/other_count), 2)\n",
    "average_others = str('$') + str(average_other)"
   ]
  },
  {
   "cell_type": "code",
   "execution_count": 238,
   "metadata": {},
   "outputs": [
    {
     "data": {
      "text/html": [
       "<div>\n",
       "<style scoped>\n",
       "    .dataframe tbody tr th:only-of-type {\n",
       "        vertical-align: middle;\n",
       "    }\n",
       "\n",
       "    .dataframe tbody tr th {\n",
       "        vertical-align: top;\n",
       "    }\n",
       "\n",
       "    .dataframe thead th {\n",
       "        text-align: right;\n",
       "    }\n",
       "</style>\n",
       "<table border=\"1\" class=\"dataframe\">\n",
       "  <thead>\n",
       "    <tr style=\"text-align: right;\">\n",
       "      <th></th>\n",
       "      <th>Purchase Count</th>\n",
       "      <th>Average Purchase Price</th>\n",
       "      <th>Total Purchase Value</th>\n",
       "      <th>Avg Total Purchase per Person</th>\n",
       "    </tr>\n",
       "    <tr>\n",
       "      <th>Gender</th>\n",
       "      <th></th>\n",
       "      <th></th>\n",
       "      <th></th>\n",
       "      <th></th>\n",
       "    </tr>\n",
       "  </thead>\n",
       "  <tbody>\n",
       "    <tr>\n",
       "      <td>Male</td>\n",
       "      <td>652</td>\n",
       "      <td>$3.02</td>\n",
       "      <td>$1967.64</td>\n",
       "      <td>$4.07</td>\n",
       "    </tr>\n",
       "    <tr>\n",
       "      <td>Female</td>\n",
       "      <td>113</td>\n",
       "      <td>$3.20</td>\n",
       "      <td>$361.94</td>\n",
       "      <td>$4.47</td>\n",
       "    </tr>\n",
       "    <tr>\n",
       "      <td>Other/Non-Disclosed</td>\n",
       "      <td>15</td>\n",
       "      <td>$3.35</td>\n",
       "      <td>$50.19</td>\n",
       "      <td>$4.56</td>\n",
       "    </tr>\n",
       "  </tbody>\n",
       "</table>\n",
       "</div>"
      ],
      "text/plain": [
       "                     Purchase Count Average Purchase Price  \\\n",
       "Gender                                                       \n",
       "Male                            652                  $3.02   \n",
       "Female                          113                  $3.20   \n",
       "Other/Non-Disclosed              15                  $3.35   \n",
       "\n",
       "                    Total Purchase Value Avg Total Purchase per Person  \n",
       "Gender                                                                  \n",
       "Male                            $1967.64                         $4.07  \n",
       "Female                           $361.94                         $4.47  \n",
       "Other/Non-Disclosed               $50.19                         $4.56  "
      ]
     },
     "execution_count": 238,
     "metadata": {},
     "output_type": "execute_result"
    }
   ],
   "source": [
    "#create df\n",
    "gender_demo = pd.DataFrame({\n",
    "    \"Gender\":[\"Male\", \"Female\", \"Other/Non-Disclosed\"],\n",
    "    \"Purchase Count\":[male_purchase_count, female_purchase_count,other_purchase_count],\n",
    "    \"Average Purchase Price\":[male_purchases, female_purchases, other_purchases],\n",
    "    \"Total Purchase Value\":[male_sums, female_sums, other_sums],\n",
    "    \"Avg Total Purchase per Person\":[average_males, average_females, average_others]})\n",
    "gender_demo.set_index(\"Gender\")"
   ]
  },
  {
   "cell_type": "markdown",
   "metadata": {},
   "source": [
    "## Age Demographics"
   ]
  },
  {
   "cell_type": "markdown",
   "metadata": {},
   "source": [
    "* Establish bins for ages\n",
    "\n",
    "\n",
    "* Categorize the existing players using the age bins. Hint: use pd.cut()\n",
    "\n",
    "\n",
    "* Calculate the numbers and percentages by age group\n",
    "\n",
    "\n",
    "* Create a summary data frame to hold the results\n",
    "\n",
    "\n",
    "* Optional: round the percentage column to two decimal points\n",
    "\n",
    "\n",
    "* Display Age Demographics Table\n"
   ]
  },
  {
   "cell_type": "code",
   "execution_count": 239,
   "metadata": {},
   "outputs": [
    {
     "data": {
      "text/plain": [
       "576"
      ]
     },
     "execution_count": 239,
     "metadata": {},
     "output_type": "execute_result"
    }
   ],
   "source": [
    "#find total count\n",
    "total_age_count = purchase_data['Age'].count()\n",
    "total_age_count"
   ]
  },
  {
   "cell_type": "code",
   "execution_count": 240,
   "metadata": {},
   "outputs": [],
   "source": [
    "#create bings\n",
    "bins = [0, 9, 14, 19, 24, 29, 34, 39, 100]\n",
    "\n",
    "# Create the names for the five bins\n",
    "group_names = [\"<10\", \"10-14\", \"15-19\", \"20-24\", \"25-29\", \"30-34\", \"35-39\", \"40+\"]\n",
    "\n",
    "group_age = purchase_data[\"Total Count\"] = pd.cut(purchase_data[\"Age\"], bins, labels=group_names, include_lowest=True)\n"
   ]
  },
  {
   "cell_type": "code",
   "execution_count": 241,
   "metadata": {},
   "outputs": [
    {
     "data": {
      "text/html": [
       "<div>\n",
       "<style scoped>\n",
       "    .dataframe tbody tr th:only-of-type {\n",
       "        vertical-align: middle;\n",
       "    }\n",
       "\n",
       "    .dataframe tbody tr th {\n",
       "        vertical-align: top;\n",
       "    }\n",
       "\n",
       "    .dataframe thead th {\n",
       "        text-align: right;\n",
       "    }\n",
       "</style>\n",
       "<table border=\"1\" class=\"dataframe\">\n",
       "  <thead>\n",
       "    <tr style=\"text-align: right;\">\n",
       "      <th></th>\n",
       "      <th>Purchase ID</th>\n",
       "      <th>SN</th>\n",
       "      <th>Age</th>\n",
       "      <th>Gender</th>\n",
       "      <th>Item ID</th>\n",
       "      <th>Item Name</th>\n",
       "      <th>Price</th>\n",
       "      <th>Total Count</th>\n",
       "      <th>Age_Range</th>\n",
       "    </tr>\n",
       "  </thead>\n",
       "  <tbody>\n",
       "    <tr>\n",
       "      <td>0</td>\n",
       "      <td>0</td>\n",
       "      <td>Lisim78</td>\n",
       "      <td>20</td>\n",
       "      <td>Male</td>\n",
       "      <td>108</td>\n",
       "      <td>Extraction, Quickblade Of Trembling Hands</td>\n",
       "      <td>3.53</td>\n",
       "      <td>20-24</td>\n",
       "      <td>20-24</td>\n",
       "    </tr>\n",
       "    <tr>\n",
       "      <td>1</td>\n",
       "      <td>1</td>\n",
       "      <td>Lisovynya38</td>\n",
       "      <td>40</td>\n",
       "      <td>Male</td>\n",
       "      <td>143</td>\n",
       "      <td>Frenzied Scimitar</td>\n",
       "      <td>1.56</td>\n",
       "      <td>40+</td>\n",
       "      <td>40+</td>\n",
       "    </tr>\n",
       "    <tr>\n",
       "      <td>2</td>\n",
       "      <td>2</td>\n",
       "      <td>Ithergue48</td>\n",
       "      <td>24</td>\n",
       "      <td>Male</td>\n",
       "      <td>92</td>\n",
       "      <td>Final Critic</td>\n",
       "      <td>4.88</td>\n",
       "      <td>20-24</td>\n",
       "      <td>20-24</td>\n",
       "    </tr>\n",
       "    <tr>\n",
       "      <td>3</td>\n",
       "      <td>3</td>\n",
       "      <td>Chamassasya86</td>\n",
       "      <td>24</td>\n",
       "      <td>Male</td>\n",
       "      <td>100</td>\n",
       "      <td>Blindscythe</td>\n",
       "      <td>3.27</td>\n",
       "      <td>20-24</td>\n",
       "      <td>20-24</td>\n",
       "    </tr>\n",
       "    <tr>\n",
       "      <td>4</td>\n",
       "      <td>4</td>\n",
       "      <td>Iskosia90</td>\n",
       "      <td>23</td>\n",
       "      <td>Male</td>\n",
       "      <td>131</td>\n",
       "      <td>Fury</td>\n",
       "      <td>1.44</td>\n",
       "      <td>20-24</td>\n",
       "      <td>20-24</td>\n",
       "    </tr>\n",
       "    <tr>\n",
       "      <td>...</td>\n",
       "      <td>...</td>\n",
       "      <td>...</td>\n",
       "      <td>...</td>\n",
       "      <td>...</td>\n",
       "      <td>...</td>\n",
       "      <td>...</td>\n",
       "      <td>...</td>\n",
       "      <td>...</td>\n",
       "      <td>...</td>\n",
       "    </tr>\n",
       "    <tr>\n",
       "      <td>773</td>\n",
       "      <td>773</td>\n",
       "      <td>Hala31</td>\n",
       "      <td>21</td>\n",
       "      <td>Male</td>\n",
       "      <td>19</td>\n",
       "      <td>Pursuit, Cudgel of Necromancy</td>\n",
       "      <td>1.02</td>\n",
       "      <td>20-24</td>\n",
       "      <td>20-24</td>\n",
       "    </tr>\n",
       "    <tr>\n",
       "      <td>774</td>\n",
       "      <td>774</td>\n",
       "      <td>Jiskjask80</td>\n",
       "      <td>11</td>\n",
       "      <td>Male</td>\n",
       "      <td>92</td>\n",
       "      <td>Final Critic</td>\n",
       "      <td>4.19</td>\n",
       "      <td>10-14</td>\n",
       "      <td>10-14</td>\n",
       "    </tr>\n",
       "    <tr>\n",
       "      <td>775</td>\n",
       "      <td>775</td>\n",
       "      <td>Aethedru70</td>\n",
       "      <td>21</td>\n",
       "      <td>Female</td>\n",
       "      <td>60</td>\n",
       "      <td>Wolf</td>\n",
       "      <td>3.54</td>\n",
       "      <td>20-24</td>\n",
       "      <td>20-24</td>\n",
       "    </tr>\n",
       "    <tr>\n",
       "      <td>777</td>\n",
       "      <td>777</td>\n",
       "      <td>Yathecal72</td>\n",
       "      <td>20</td>\n",
       "      <td>Male</td>\n",
       "      <td>67</td>\n",
       "      <td>Celeste, Incarnation of the Corrupted</td>\n",
       "      <td>3.46</td>\n",
       "      <td>20-24</td>\n",
       "      <td>20-24</td>\n",
       "    </tr>\n",
       "    <tr>\n",
       "      <td>778</td>\n",
       "      <td>778</td>\n",
       "      <td>Sisur91</td>\n",
       "      <td>7</td>\n",
       "      <td>Male</td>\n",
       "      <td>92</td>\n",
       "      <td>Final Critic</td>\n",
       "      <td>4.19</td>\n",
       "      <td>&lt;10</td>\n",
       "      <td>&lt;10</td>\n",
       "    </tr>\n",
       "  </tbody>\n",
       "</table>\n",
       "<p>576 rows × 9 columns</p>\n",
       "</div>"
      ],
      "text/plain": [
       "     Purchase ID             SN  Age  Gender  Item ID  \\\n",
       "0              0        Lisim78   20    Male      108   \n",
       "1              1    Lisovynya38   40    Male      143   \n",
       "2              2     Ithergue48   24    Male       92   \n",
       "3              3  Chamassasya86   24    Male      100   \n",
       "4              4      Iskosia90   23    Male      131   \n",
       "..           ...            ...  ...     ...      ...   \n",
       "773          773         Hala31   21    Male       19   \n",
       "774          774     Jiskjask80   11    Male       92   \n",
       "775          775     Aethedru70   21  Female       60   \n",
       "777          777     Yathecal72   20    Male       67   \n",
       "778          778        Sisur91    7    Male       92   \n",
       "\n",
       "                                     Item Name  Price Total Count Age_Range  \n",
       "0    Extraction, Quickblade Of Trembling Hands   3.53       20-24     20-24  \n",
       "1                            Frenzied Scimitar   1.56         40+       40+  \n",
       "2                                 Final Critic   4.88       20-24     20-24  \n",
       "3                                  Blindscythe   3.27       20-24     20-24  \n",
       "4                                         Fury   1.44       20-24     20-24  \n",
       "..                                         ...    ...         ...       ...  \n",
       "773              Pursuit, Cudgel of Necromancy   1.02       20-24     20-24  \n",
       "774                               Final Critic   4.19       10-14     10-14  \n",
       "775                                       Wolf   3.54       20-24     20-24  \n",
       "777      Celeste, Incarnation of the Corrupted   3.46       20-24     20-24  \n",
       "778                               Final Critic   4.19         <10       <10  \n",
       "\n",
       "[576 rows x 9 columns]"
      ]
     },
     "execution_count": 241,
     "metadata": {},
     "output_type": "execute_result"
    }
   ],
   "source": [
    "#add Age Range to df\n",
    "purchase_data[\"Age_Range\"] = pd.cut(purchase_data[\"Age\"], bins, labels=group_names)\n",
    "purchase_data"
   ]
  },
  {
   "cell_type": "markdown",
   "metadata": {},
   "source": [
    "## Purchasing Analysis (Age)"
   ]
  },
  {
   "cell_type": "code",
   "execution_count": 242,
   "metadata": {},
   "outputs": [
    {
     "data": {
      "text/plain": [
       "Age_Range\n",
       "<10       17\n",
       "10-14     22\n",
       "15-19    107\n",
       "20-24    258\n",
       "25-29     77\n",
       "30-34     52\n",
       "35-39     31\n",
       "40+       12\n",
       "Name: Age_Range, dtype: int64"
      ]
     },
     "execution_count": 242,
     "metadata": {},
     "output_type": "execute_result"
    }
   ],
   "source": [
    "#group by Age Range\n",
    "age_group = purchase_data.groupby(\"Age_Range\")\n",
    "\n",
    "# Find how many rows fall into each bin\n",
    "age_group = age_group[\"Age_Range\"].count()\n",
    "age_group"
   ]
  },
  {
   "cell_type": "code",
   "execution_count": 243,
   "metadata": {},
   "outputs": [
    {
     "data": {
      "text/plain": [
       "Age_Range\n",
       "<10       2.95%\n",
       "10-14     3.82%\n",
       "15-19    18.58%\n",
       "20-24    44.79%\n",
       "25-29    13.37%\n",
       "30-34     9.03%\n",
       "35-39     5.38%\n",
       "40+       2.08%\n",
       "Name: Age_Range, dtype: object"
      ]
     },
     "execution_count": 243,
     "metadata": {},
     "output_type": "execute_result"
    }
   ],
   "source": [
    "#find percentage and format\n",
    "pct = (age_group/total_count) *100\n",
    "pct = pct.map(\"{:.2f}%\".format)\n",
    "pct"
   ]
  },
  {
   "cell_type": "code",
   "execution_count": 244,
   "metadata": {},
   "outputs": [
    {
     "data": {
      "text/html": [
       "<div>\n",
       "<style scoped>\n",
       "    .dataframe tbody tr th:only-of-type {\n",
       "        vertical-align: middle;\n",
       "    }\n",
       "\n",
       "    .dataframe tbody tr th {\n",
       "        vertical-align: top;\n",
       "    }\n",
       "\n",
       "    .dataframe thead th {\n",
       "        text-align: right;\n",
       "    }\n",
       "</style>\n",
       "<table border=\"1\" class=\"dataframe\">\n",
       "  <thead>\n",
       "    <tr style=\"text-align: right;\">\n",
       "      <th></th>\n",
       "      <th>Purchase ID</th>\n",
       "      <th>SN</th>\n",
       "      <th>Age</th>\n",
       "      <th>Gender</th>\n",
       "      <th>Item ID</th>\n",
       "      <th>Item Name</th>\n",
       "      <th>Price</th>\n",
       "      <th>Total Count</th>\n",
       "      <th>Age_Range</th>\n",
       "      <th>Age_Count</th>\n",
       "    </tr>\n",
       "  </thead>\n",
       "  <tbody>\n",
       "    <tr>\n",
       "      <td>0</td>\n",
       "      <td>0</td>\n",
       "      <td>Lisim78</td>\n",
       "      <td>20</td>\n",
       "      <td>Male</td>\n",
       "      <td>108</td>\n",
       "      <td>Extraction, Quickblade Of Trembling Hands</td>\n",
       "      <td>3.53</td>\n",
       "      <td>20-24</td>\n",
       "      <td>20-24</td>\n",
       "      <td>20-24</td>\n",
       "    </tr>\n",
       "    <tr>\n",
       "      <td>1</td>\n",
       "      <td>1</td>\n",
       "      <td>Lisovynya38</td>\n",
       "      <td>40</td>\n",
       "      <td>Male</td>\n",
       "      <td>143</td>\n",
       "      <td>Frenzied Scimitar</td>\n",
       "      <td>1.56</td>\n",
       "      <td>40+</td>\n",
       "      <td>40+</td>\n",
       "      <td>40+</td>\n",
       "    </tr>\n",
       "    <tr>\n",
       "      <td>2</td>\n",
       "      <td>2</td>\n",
       "      <td>Ithergue48</td>\n",
       "      <td>24</td>\n",
       "      <td>Male</td>\n",
       "      <td>92</td>\n",
       "      <td>Final Critic</td>\n",
       "      <td>4.88</td>\n",
       "      <td>20-24</td>\n",
       "      <td>20-24</td>\n",
       "      <td>20-24</td>\n",
       "    </tr>\n",
       "    <tr>\n",
       "      <td>3</td>\n",
       "      <td>3</td>\n",
       "      <td>Chamassasya86</td>\n",
       "      <td>24</td>\n",
       "      <td>Male</td>\n",
       "      <td>100</td>\n",
       "      <td>Blindscythe</td>\n",
       "      <td>3.27</td>\n",
       "      <td>20-24</td>\n",
       "      <td>20-24</td>\n",
       "      <td>20-24</td>\n",
       "    </tr>\n",
       "    <tr>\n",
       "      <td>4</td>\n",
       "      <td>4</td>\n",
       "      <td>Iskosia90</td>\n",
       "      <td>23</td>\n",
       "      <td>Male</td>\n",
       "      <td>131</td>\n",
       "      <td>Fury</td>\n",
       "      <td>1.44</td>\n",
       "      <td>20-24</td>\n",
       "      <td>20-24</td>\n",
       "      <td>20-24</td>\n",
       "    </tr>\n",
       "  </tbody>\n",
       "</table>\n",
       "</div>"
      ],
      "text/plain": [
       "   Purchase ID             SN  Age Gender  Item ID  \\\n",
       "0            0        Lisim78   20   Male      108   \n",
       "1            1    Lisovynya38   40   Male      143   \n",
       "2            2     Ithergue48   24   Male       92   \n",
       "3            3  Chamassasya86   24   Male      100   \n",
       "4            4      Iskosia90   23   Male      131   \n",
       "\n",
       "                                   Item Name  Price Total Count Age_Range  \\\n",
       "0  Extraction, Quickblade Of Trembling Hands   3.53       20-24     20-24   \n",
       "1                          Frenzied Scimitar   1.56         40+       40+   \n",
       "2                               Final Critic   4.88       20-24     20-24   \n",
       "3                                Blindscythe   3.27       20-24     20-24   \n",
       "4                                       Fury   1.44       20-24     20-24   \n",
       "\n",
       "  Age_Count  \n",
       "0     20-24  \n",
       "1       40+  \n",
       "2     20-24  \n",
       "3     20-24  \n",
       "4     20-24  "
      ]
     },
     "execution_count": 244,
     "metadata": {},
     "output_type": "execute_result"
    }
   ],
   "source": [
    "# Place the data series into a new column inside of the DataFrame\n",
    "purchase_data[\"Age_Count\"] = pd.cut(purchase_data[\"Age\"], bins, labels=group_names)\n",
    "purchase_data.head()\n"
   ]
  },
  {
   "cell_type": "code",
   "execution_count": 245,
   "metadata": {},
   "outputs": [
    {
     "data": {
      "text/html": [
       "<div>\n",
       "<style scoped>\n",
       "    .dataframe tbody tr th:only-of-type {\n",
       "        vertical-align: middle;\n",
       "    }\n",
       "\n",
       "    .dataframe tbody tr th {\n",
       "        vertical-align: top;\n",
       "    }\n",
       "\n",
       "    .dataframe thead th {\n",
       "        text-align: right;\n",
       "    }\n",
       "</style>\n",
       "<table border=\"1\" class=\"dataframe\">\n",
       "  <thead>\n",
       "    <tr style=\"text-align: right;\">\n",
       "      <th></th>\n",
       "      <th>Total Count</th>\n",
       "      <th>Percentage of Players</th>\n",
       "    </tr>\n",
       "    <tr>\n",
       "      <th></th>\n",
       "      <th></th>\n",
       "      <th></th>\n",
       "    </tr>\n",
       "  </thead>\n",
       "  <tbody>\n",
       "    <tr>\n",
       "      <td>&lt;10</td>\n",
       "      <td>17</td>\n",
       "      <td>2.95%</td>\n",
       "    </tr>\n",
       "    <tr>\n",
       "      <td>10-14</td>\n",
       "      <td>22</td>\n",
       "      <td>3.82%</td>\n",
       "    </tr>\n",
       "    <tr>\n",
       "      <td>15-19</td>\n",
       "      <td>107</td>\n",
       "      <td>18.58%</td>\n",
       "    </tr>\n",
       "    <tr>\n",
       "      <td>20-24</td>\n",
       "      <td>258</td>\n",
       "      <td>44.79%</td>\n",
       "    </tr>\n",
       "    <tr>\n",
       "      <td>25-29</td>\n",
       "      <td>77</td>\n",
       "      <td>13.37%</td>\n",
       "    </tr>\n",
       "    <tr>\n",
       "      <td>30-34</td>\n",
       "      <td>52</td>\n",
       "      <td>9.03%</td>\n",
       "    </tr>\n",
       "    <tr>\n",
       "      <td>35-39</td>\n",
       "      <td>31</td>\n",
       "      <td>5.38%</td>\n",
       "    </tr>\n",
       "    <tr>\n",
       "      <td>40+</td>\n",
       "      <td>12</td>\n",
       "      <td>2.08%</td>\n",
       "    </tr>\n",
       "  </tbody>\n",
       "</table>\n",
       "</div>"
      ],
      "text/plain": [
       "       Total Count Percentage of Players\n",
       "                                        \n",
       "<10             17                 2.95%\n",
       "10-14           22                 3.82%\n",
       "15-19          107                18.58%\n",
       "20-24          258                44.79%\n",
       "25-29           77                13.37%\n",
       "30-34           52                 9.03%\n",
       "35-39           31                 5.38%\n",
       "40+             12                 2.08%"
      ]
     },
     "execution_count": 245,
     "metadata": {},
     "output_type": "execute_result"
    }
   ],
   "source": [
    "#create df\n",
    "age_demo = pd.DataFrame({\n",
    "    \" \":[\"<10\", \"10-14\", \"15-19\", \"20-24\", \"25-29\", \"30-34\", \"35-39\", \"40+\"],\n",
    "    \"Total Count\":[age_group[0], age_group[1], age_group[2], age_group[3], age_group[4], age_group[5], \n",
    "                   age_group[6], age_group[7]],\n",
    "    \"Percentage of Players\": [pct[0], pct[1], pct[2], pct[3], pct[4], pct[5], pct[6], pct[7]],})\n",
    "age_demo.set_index(\" \")"
   ]
  },
  {
   "cell_type": "markdown",
   "metadata": {},
   "source": [
    "* Bin the purchase_data data frame by age\n",
    "\n",
    "\n",
    "* Run basic calculations to obtain purchase count, avg. purchase price, avg. purchase total per person etc. in the table below\n",
    "\n",
    "\n",
    "* Create a summary data frame to hold the results\n",
    "\n",
    "\n",
    "* Optional: give the displayed data cleaner formatting\n",
    "\n",
    "\n",
    "* Display the summary data frame"
   ]
  },
  {
   "cell_type": "code",
   "execution_count": 246,
   "metadata": {},
   "outputs": [],
   "source": [
    "#group by Age Count\n",
    "young_age = purchase_data.groupby(\"Age_Count\")\n",
    "\n",
    "\n",
    "# Purchase Count\n",
    "purchase_count = young_age[\"Purchase ID\"].count()\n",
    "\n",
    "#Average Purchase Price\n",
    "purchase_mean = young_age[\"Price\"].mean()\n",
    "purchase_mean = round(purchase_mean, 2)\n",
    "#add dollar sign\n",
    "purchase_mean = purchase_mean.map(\"${:.2f}\".format)\n",
    "\n",
    "# Total Purchase Value\n",
    "t_p_v = young_age[\"Price\"].sum()\n",
    "#add dollar sign\n",
    "t_p_v_d = t_p_v.map(\"${:.2f}\".format)\n",
    "\n",
    "\n",
    "#Avg Total Purchase per Person\n",
    "t_p_p_p = (t_p_v/age_group)\n",
    "#add dollar sign\n",
    "t_p_p_p = t_p_p_p.map(\"${:.2f}\".format)\n",
    "\n"
   ]
  },
  {
   "cell_type": "code",
   "execution_count": 43,
   "metadata": {},
   "outputs": [
    {
     "data": {
      "text/html": [
       "<div>\n",
       "<style scoped>\n",
       "    .dataframe tbody tr th:only-of-type {\n",
       "        vertical-align: middle;\n",
       "    }\n",
       "\n",
       "    .dataframe tbody tr th {\n",
       "        vertical-align: top;\n",
       "    }\n",
       "\n",
       "    .dataframe thead th {\n",
       "        text-align: right;\n",
       "    }\n",
       "</style>\n",
       "<table border=\"1\" class=\"dataframe\">\n",
       "  <thead>\n",
       "    <tr style=\"text-align: right;\">\n",
       "      <th></th>\n",
       "      <th>Purchase Count</th>\n",
       "      <th>Average Purchase Price</th>\n",
       "      <th>Total Purchase Value</th>\n",
       "      <th>Avg Total Purchase per Person</th>\n",
       "    </tr>\n",
       "    <tr>\n",
       "      <th>Age Ranges</th>\n",
       "      <th></th>\n",
       "      <th></th>\n",
       "      <th></th>\n",
       "      <th></th>\n",
       "    </tr>\n",
       "  </thead>\n",
       "  <tbody>\n",
       "    <tr>\n",
       "      <td>&lt;10</td>\n",
       "      <td>17</td>\n",
       "      <td>$3.39</td>\n",
       "      <td>$57.63</td>\n",
       "      <td>$3.39</td>\n",
       "    </tr>\n",
       "    <tr>\n",
       "      <td>10-14</td>\n",
       "      <td>22</td>\n",
       "      <td>$3.07</td>\n",
       "      <td>$67.64</td>\n",
       "      <td>$3.07</td>\n",
       "    </tr>\n",
       "    <tr>\n",
       "      <td>15-19</td>\n",
       "      <td>107</td>\n",
       "      <td>$3.10</td>\n",
       "      <td>$331.88</td>\n",
       "      <td>$3.10</td>\n",
       "    </tr>\n",
       "    <tr>\n",
       "      <td>20-24</td>\n",
       "      <td>258</td>\n",
       "      <td>$3.06</td>\n",
       "      <td>$790.39</td>\n",
       "      <td>$3.06</td>\n",
       "    </tr>\n",
       "    <tr>\n",
       "      <td>25-29</td>\n",
       "      <td>77</td>\n",
       "      <td>$2.91</td>\n",
       "      <td>$223.93</td>\n",
       "      <td>$2.91</td>\n",
       "    </tr>\n",
       "    <tr>\n",
       "      <td>30-34</td>\n",
       "      <td>52</td>\n",
       "      <td>$2.92</td>\n",
       "      <td>$151.92</td>\n",
       "      <td>$2.92</td>\n",
       "    </tr>\n",
       "    <tr>\n",
       "      <td>35-39</td>\n",
       "      <td>31</td>\n",
       "      <td>$3.51</td>\n",
       "      <td>$108.81</td>\n",
       "      <td>$3.51</td>\n",
       "    </tr>\n",
       "    <tr>\n",
       "      <td>40+</td>\n",
       "      <td>12</td>\n",
       "      <td>$3.04</td>\n",
       "      <td>$36.45</td>\n",
       "      <td>$3.04</td>\n",
       "    </tr>\n",
       "  </tbody>\n",
       "</table>\n",
       "</div>"
      ],
      "text/plain": [
       "            Purchase Count Average Purchase Price Total Purchase Value  \\\n",
       "Age Ranges                                                               \n",
       "<10                     17                  $3.39               $57.63   \n",
       "10-14                   22                  $3.07               $67.64   \n",
       "15-19                  107                  $3.10              $331.88   \n",
       "20-24                  258                  $3.06              $790.39   \n",
       "25-29                   77                  $2.91              $223.93   \n",
       "30-34                   52                  $2.92              $151.92   \n",
       "35-39                   31                  $3.51              $108.81   \n",
       "40+                     12                  $3.04               $36.45   \n",
       "\n",
       "           Avg Total Purchase per Person  \n",
       "Age Ranges                                \n",
       "<10                                $3.39  \n",
       "10-14                              $3.07  \n",
       "15-19                              $3.10  \n",
       "20-24                              $3.06  \n",
       "25-29                              $2.91  \n",
       "30-34                              $2.92  \n",
       "35-39                              $3.51  \n",
       "40+                                $3.04  "
      ]
     },
     "execution_count": 43,
     "metadata": {},
     "output_type": "execute_result"
    }
   ],
   "source": [
    "#create df\n",
    "age_purchase = pd.DataFrame({\n",
    "    \"Age Ranges\":[\"<10\", \"10-14\", \"15-19\", \"20-24\", \"25-29\", \"30-34\", \"35-39\", \"40+\"],\n",
    "    \"Purchase Count\":[purchase_count[0], purchase_count[1], purchase_count[2], purchase_count[3], \n",
    "                      purchase_count[4], purchase_count[5], purchase_count[6], purchase_count[7]],\n",
    "    \"Average Purchase Price\":[purchase_mean[0], purchase_mean[1], purchase_mean[2], purchase_mean[3],\n",
    "                              purchase_mean[4], purchase_mean[5], purchase_mean[6], purchase_mean[7]],\n",
    "    \"Total Purchase Value\": [t_p_v_d[0], t_p_v_d[1], t_p_v_d[2], t_p_v_d[3], t_p_v_d[4], t_p_v_d[5], \n",
    "                             t_p_v_d[6], t_p_v_d[7]],\n",
    "    \"Avg Total Purchase per Person\": [t_p_p_p[0], t_p_p_p[1], t_p_p_p[2], t_p_p_p[3], t_p_p_p[4], t_p_p_p[5],\n",
    "                                      t_p_p_p[6], t_p_p_p[7]]})\n",
    "age_purchase.set_index(\"Age Ranges\")"
   ]
  },
  {
   "cell_type": "markdown",
   "metadata": {},
   "source": [
    "## Top Spenders"
   ]
  },
  {
   "cell_type": "markdown",
   "metadata": {},
   "source": [
    "* Run basic calculations to obtain the results in the table below\n",
    "\n",
    "\n",
    "* Create a summary data frame to hold the results\n",
    "\n",
    "\n",
    "* Sort the total purchase value column in descending order\n",
    "\n",
    "\n",
    "* Optional: give the displayed data cleaner formatting\n",
    "\n",
    "\n",
    "* Display a preview of the summary data frame\n",
    "\n"
   ]
  },
  {
   "cell_type": "code",
   "execution_count": 247,
   "metadata": {},
   "outputs": [],
   "source": [
    "#group by SN\n",
    "user_name = purchase_data_pure.groupby(\"SN\")\n",
    "\n",
    "\n",
    "#Total Purchase Price\n",
    "user_tpv = user_name[\"Price\"].sum().sort_values(ascending=False)\n",
    "#add dollar\n",
    "user_tpv_d = user_tpv.map(\"${:.2f}\".format)\n",
    "\n",
    "#Purchase Count\n",
    "top_spenders = user_name[\"Price\"].sum().sort_values(ascending=False)\n",
    "top = user_name[\"Item ID\"].count().sort_values(ascending=False)\n",
    "#Merge Count to obtain Purchase Count from Top Spenders by Money Spent\n",
    "merge_spender = pd.merge(top_spenders, top, on=\"SN\")\n",
    "\n",
    "#Average Purchase Value\n",
    "avg_pur_pr = (user_tpv/merge_spender[\"Item ID\"])\n",
    "avg_pur_d = avg_pur_pr.map(\"${:.2f}\".format)\n"
   ]
  },
  {
   "cell_type": "code",
   "execution_count": 248,
   "metadata": {
    "scrolled": true
   },
   "outputs": [
    {
     "data": {
      "text/html": [
       "<div>\n",
       "<style scoped>\n",
       "    .dataframe tbody tr th:only-of-type {\n",
       "        vertical-align: middle;\n",
       "    }\n",
       "\n",
       "    .dataframe tbody tr th {\n",
       "        vertical-align: top;\n",
       "    }\n",
       "\n",
       "    .dataframe thead th {\n",
       "        text-align: right;\n",
       "    }\n",
       "</style>\n",
       "<table border=\"1\" class=\"dataframe\">\n",
       "  <thead>\n",
       "    <tr style=\"text-align: right;\">\n",
       "      <th></th>\n",
       "      <th>Purchase Count</th>\n",
       "      <th>Average Purchase Price</th>\n",
       "      <th>Avg Total Purchase per Person</th>\n",
       "    </tr>\n",
       "    <tr>\n",
       "      <th>SN</th>\n",
       "      <th></th>\n",
       "      <th></th>\n",
       "      <th></th>\n",
       "    </tr>\n",
       "  </thead>\n",
       "  <tbody>\n",
       "    <tr>\n",
       "      <td>Lisosia93</td>\n",
       "      <td>5</td>\n",
       "      <td>$3.79</td>\n",
       "      <td>$18.96</td>\n",
       "    </tr>\n",
       "    <tr>\n",
       "      <td>Idastidru52</td>\n",
       "      <td>4</td>\n",
       "      <td>$3.86</td>\n",
       "      <td>$15.45</td>\n",
       "    </tr>\n",
       "    <tr>\n",
       "      <td>Chamjask73</td>\n",
       "      <td>3</td>\n",
       "      <td>$4.61</td>\n",
       "      <td>$13.83</td>\n",
       "    </tr>\n",
       "    <tr>\n",
       "      <td>Iral74</td>\n",
       "      <td>4</td>\n",
       "      <td>$3.40</td>\n",
       "      <td>$13.62</td>\n",
       "    </tr>\n",
       "    <tr>\n",
       "      <td>Iskadarya95</td>\n",
       "      <td>3</td>\n",
       "      <td>$4.37</td>\n",
       "      <td>$13.10</td>\n",
       "    </tr>\n",
       "  </tbody>\n",
       "</table>\n",
       "</div>"
      ],
      "text/plain": [
       "             Purchase Count Average Purchase Price  \\\n",
       "SN                                                   \n",
       "Lisosia93                 5                  $3.79   \n",
       "Idastidru52               4                  $3.86   \n",
       "Chamjask73                3                  $4.61   \n",
       "Iral74                    4                  $3.40   \n",
       "Iskadarya95               3                  $4.37   \n",
       "\n",
       "            Avg Total Purchase per Person  \n",
       "SN                                         \n",
       "Lisosia93                          $18.96  \n",
       "Idastidru52                        $15.45  \n",
       "Chamjask73                         $13.83  \n",
       "Iral74                             $13.62  \n",
       "Iskadarya95                        $13.10  "
      ]
     },
     "execution_count": 248,
     "metadata": {},
     "output_type": "execute_result"
    }
   ],
   "source": [
    "#create df\n",
    "top_spender_demo = pd.DataFrame({\n",
    "    \"SN\":[\"Lisosia93\", \"Idastidru52\", \"Chamjask73\", \"Iral74\", \"Iskadarya95\",],\n",
    "    \"Purchase Count\":[merge_spender[\"Item ID\"][0], merge_spender[\"Item ID\"][1], merge_spender[\"Item ID\"][2], \n",
    "                      merge_spender[\"Item ID\"][3], merge_spender[\"Item ID\"][4],],\n",
    "    \"Average Purchase Price\":[avg_pur_d[0], avg_pur_d[1], avg_pur_d[2], avg_pur_d[3],\n",
    "                              avg_pur_d[4],],\n",
    "    \"Avg Total Purchase per Person\": [user_tpv_d[0], user_tpv_d[1], user_tpv_d[2], user_tpv_d[3],\n",
    "                              user_tpv_d[4],]})\n",
    "top_spender_demo.set_index(\"SN\")"
   ]
  },
  {
   "cell_type": "markdown",
   "metadata": {},
   "source": [
    "## Most Popular Items"
   ]
  },
  {
   "cell_type": "markdown",
   "metadata": {},
   "source": [
    "* Retrieve the Item ID, Item Name, and Item Price columns\n",
    "\n",
    "\n",
    "* Group by Item ID and Item Name. Perform calculations to obtain purchase count, item price, and total purchase value\n",
    "\n",
    "\n",
    "* Create a summary data frame to hold the results\n",
    "\n",
    "\n",
    "* Sort the purchase count column in descending order\n",
    "\n",
    "\n",
    "* Optional: give the displayed data cleaner formatting\n",
    "\n",
    "\n",
    "* Display a preview of the summary data frame\n",
    "\n"
   ]
  },
  {
   "cell_type": "code",
   "execution_count": 249,
   "metadata": {},
   "outputs": [
    {
     "data": {
      "text/html": [
       "<style  type=\"text/css\" >\n",
       "</style><table id=\"T_69eea5c6_743d_11ea_ae47_f8a2d6cb6564\" ><thead>    <tr>        <th class=\"blank\" ></th>        <th class=\"blank level0\" ></th>        <th class=\"col_heading level0 col0\" >Purchase Count</th>        <th class=\"col_heading level0 col1\" >Item Price</th>        <th class=\"col_heading level0 col2\" >Total Purchase Value</th>    </tr>    <tr>        <th class=\"index_name level0\" >Item ID</th>        <th class=\"index_name level1\" >Item Name</th>        <th class=\"blank\" ></th>        <th class=\"blank\" ></th>        <th class=\"blank\" ></th>    </tr></thead><tbody>\n",
       "                <tr>\n",
       "                        <th id=\"T_69eea5c6_743d_11ea_ae47_f8a2d6cb6564level0_row0\" class=\"row_heading level0 row0\" >92</th>\n",
       "                        <th id=\"T_69eea5c6_743d_11ea_ae47_f8a2d6cb6564level1_row0\" class=\"row_heading level1 row0\" >Final Critic</th>\n",
       "                        <td id=\"T_69eea5c6_743d_11ea_ae47_f8a2d6cb6564row0_col0\" class=\"data row0 col0\" >13</td>\n",
       "                        <td id=\"T_69eea5c6_743d_11ea_ae47_f8a2d6cb6564row0_col1\" class=\"data row0 col1\" >$4.61</td>\n",
       "                        <td id=\"T_69eea5c6_743d_11ea_ae47_f8a2d6cb6564row0_col2\" class=\"data row0 col2\" >$59.99</td>\n",
       "            </tr>\n",
       "            <tr>\n",
       "                        <th id=\"T_69eea5c6_743d_11ea_ae47_f8a2d6cb6564level0_row1\" class=\"row_heading level0 row1\" >178</th>\n",
       "                        <th id=\"T_69eea5c6_743d_11ea_ae47_f8a2d6cb6564level1_row1\" class=\"row_heading level1 row1\" >Oathbreaker, Last Hope of the Breaking Storm</th>\n",
       "                        <td id=\"T_69eea5c6_743d_11ea_ae47_f8a2d6cb6564row1_col0\" class=\"data row1 col0\" >12</td>\n",
       "                        <td id=\"T_69eea5c6_743d_11ea_ae47_f8a2d6cb6564row1_col1\" class=\"data row1 col1\" >$4.23</td>\n",
       "                        <td id=\"T_69eea5c6_743d_11ea_ae47_f8a2d6cb6564row1_col2\" class=\"data row1 col2\" >$50.76</td>\n",
       "            </tr>\n",
       "            <tr>\n",
       "                        <th id=\"T_69eea5c6_743d_11ea_ae47_f8a2d6cb6564level0_row2\" class=\"row_heading level0 row2\" >145</th>\n",
       "                        <th id=\"T_69eea5c6_743d_11ea_ae47_f8a2d6cb6564level1_row2\" class=\"row_heading level1 row2\" >Fiery Glass Crusader</th>\n",
       "                        <td id=\"T_69eea5c6_743d_11ea_ae47_f8a2d6cb6564row2_col0\" class=\"data row2 col0\" >9</td>\n",
       "                        <td id=\"T_69eea5c6_743d_11ea_ae47_f8a2d6cb6564row2_col1\" class=\"data row2 col1\" >$4.58</td>\n",
       "                        <td id=\"T_69eea5c6_743d_11ea_ae47_f8a2d6cb6564row2_col2\" class=\"data row2 col2\" >$41.22</td>\n",
       "            </tr>\n",
       "            <tr>\n",
       "                        <th id=\"T_69eea5c6_743d_11ea_ae47_f8a2d6cb6564level0_row3\" class=\"row_heading level0 row3\" >132</th>\n",
       "                        <th id=\"T_69eea5c6_743d_11ea_ae47_f8a2d6cb6564level1_row3\" class=\"row_heading level1 row3\" >Persuasion</th>\n",
       "                        <td id=\"T_69eea5c6_743d_11ea_ae47_f8a2d6cb6564row3_col0\" class=\"data row3 col0\" >9</td>\n",
       "                        <td id=\"T_69eea5c6_743d_11ea_ae47_f8a2d6cb6564row3_col1\" class=\"data row3 col1\" >$3.22</td>\n",
       "                        <td id=\"T_69eea5c6_743d_11ea_ae47_f8a2d6cb6564row3_col2\" class=\"data row3 col2\" >$28.99</td>\n",
       "            </tr>\n",
       "            <tr>\n",
       "                        <th id=\"T_69eea5c6_743d_11ea_ae47_f8a2d6cb6564level0_row4\" class=\"row_heading level0 row4\" >108</th>\n",
       "                        <th id=\"T_69eea5c6_743d_11ea_ae47_f8a2d6cb6564level1_row4\" class=\"row_heading level1 row4\" >Extraction, Quickblade Of Trembling Hands</th>\n",
       "                        <td id=\"T_69eea5c6_743d_11ea_ae47_f8a2d6cb6564row4_col0\" class=\"data row4 col0\" >9</td>\n",
       "                        <td id=\"T_69eea5c6_743d_11ea_ae47_f8a2d6cb6564row4_col1\" class=\"data row4 col1\" >$3.53</td>\n",
       "                        <td id=\"T_69eea5c6_743d_11ea_ae47_f8a2d6cb6564row4_col2\" class=\"data row4 col2\" >$31.77</td>\n",
       "            </tr>\n",
       "    </tbody></table>"
      ],
      "text/plain": [
       "<pandas.io.formats.style.Styler at 0x1f985f54c88>"
      ]
     },
     "execution_count": 249,
     "metadata": {},
     "output_type": "execute_result"
    }
   ],
   "source": [
    "#creat new data frame\n",
    "items = purchase_data_pure[[\"Item ID\", \"Item Name\", \"Price\"]]\n",
    "\n",
    "#group data\n",
    "popular_items = items.groupby([\"Item ID\", \"Item Name\"])\n",
    "\n",
    "#purchase count\n",
    "item_count = popular_items[\"Price\"].count()\n",
    "item_count\n",
    "\n",
    "#total purchase value\n",
    "item_tpv = popular_items[\"Price\"].sum()\n",
    "item_tpv_d = item_tpv.map(\"${:.2f}\".format)\n",
    "\n",
    "#item price\n",
    "item_price = item_tpv/item_count\n",
    "item_price = item_price.map(\"${:.2f}\".format)\n",
    "\n",
    "#create data frame with item values\n",
    "popular_items_df = pd.DataFrame({\"Purchase Count\": item_count,\n",
    "                                 \"Item Price\": item_price,\n",
    "                                 \"Total Purchase Value\": item_tpv})\n",
    "\n",
    "#order the df by purchase count column in descending order\n",
    "popular_items_descending_pc = popular_items_df.sort_values([\"Purchase Count\"],ascending=False).head()\n",
    "\n",
    "#place .head so you only get the top 5\n",
    "popular_items_descending_pc.style.format({\"Total Purchase Value\": \"${:,.2f}\"})\n"
   ]
  },
  {
   "cell_type": "markdown",
   "metadata": {},
   "source": [
    "## Most Profitable Items"
   ]
  },
  {
   "cell_type": "markdown",
   "metadata": {},
   "source": [
    "* Sort the above table by total purchase value in descending order\n",
    "\n",
    "\n",
    "* Optional: give the displayed data cleaner formatting\n",
    "\n",
    "\n",
    "* Display a preview of the data frame\n",
    "\n"
   ]
  },
  {
   "cell_type": "code",
   "execution_count": 251,
   "metadata": {},
   "outputs": [
    {
     "data": {
      "text/html": [
       "<style  type=\"text/css\" >\n",
       "</style><table id=\"T_d2ac509e_7459_11ea_9ab5_f8a2d6cb6564\" ><thead>    <tr>        <th class=\"blank\" ></th>        <th class=\"blank level0\" ></th>        <th class=\"col_heading level0 col0\" >Purchase Count</th>        <th class=\"col_heading level0 col1\" >Item Price</th>        <th class=\"col_heading level0 col2\" >Total Purchase Value</th>    </tr>    <tr>        <th class=\"index_name level0\" >Item ID</th>        <th class=\"index_name level1\" >Item Name</th>        <th class=\"blank\" ></th>        <th class=\"blank\" ></th>        <th class=\"blank\" ></th>    </tr></thead><tbody>\n",
       "                <tr>\n",
       "                        <th id=\"T_d2ac509e_7459_11ea_9ab5_f8a2d6cb6564level0_row0\" class=\"row_heading level0 row0\" >92</th>\n",
       "                        <th id=\"T_d2ac509e_7459_11ea_9ab5_f8a2d6cb6564level1_row0\" class=\"row_heading level1 row0\" >Final Critic</th>\n",
       "                        <td id=\"T_d2ac509e_7459_11ea_9ab5_f8a2d6cb6564row0_col0\" class=\"data row0 col0\" >13</td>\n",
       "                        <td id=\"T_d2ac509e_7459_11ea_9ab5_f8a2d6cb6564row0_col1\" class=\"data row0 col1\" >$4.61</td>\n",
       "                        <td id=\"T_d2ac509e_7459_11ea_9ab5_f8a2d6cb6564row0_col2\" class=\"data row0 col2\" >$59.99</td>\n",
       "            </tr>\n",
       "            <tr>\n",
       "                        <th id=\"T_d2ac509e_7459_11ea_9ab5_f8a2d6cb6564level0_row1\" class=\"row_heading level0 row1\" >178</th>\n",
       "                        <th id=\"T_d2ac509e_7459_11ea_9ab5_f8a2d6cb6564level1_row1\" class=\"row_heading level1 row1\" >Oathbreaker, Last Hope of the Breaking Storm</th>\n",
       "                        <td id=\"T_d2ac509e_7459_11ea_9ab5_f8a2d6cb6564row1_col0\" class=\"data row1 col0\" >12</td>\n",
       "                        <td id=\"T_d2ac509e_7459_11ea_9ab5_f8a2d6cb6564row1_col1\" class=\"data row1 col1\" >$4.23</td>\n",
       "                        <td id=\"T_d2ac509e_7459_11ea_9ab5_f8a2d6cb6564row1_col2\" class=\"data row1 col2\" >$50.76</td>\n",
       "            </tr>\n",
       "            <tr>\n",
       "                        <th id=\"T_d2ac509e_7459_11ea_9ab5_f8a2d6cb6564level0_row2\" class=\"row_heading level0 row2\" >82</th>\n",
       "                        <th id=\"T_d2ac509e_7459_11ea_9ab5_f8a2d6cb6564level1_row2\" class=\"row_heading level1 row2\" >Nirvana</th>\n",
       "                        <td id=\"T_d2ac509e_7459_11ea_9ab5_f8a2d6cb6564row2_col0\" class=\"data row2 col0\" >9</td>\n",
       "                        <td id=\"T_d2ac509e_7459_11ea_9ab5_f8a2d6cb6564row2_col1\" class=\"data row2 col1\" >$4.90</td>\n",
       "                        <td id=\"T_d2ac509e_7459_11ea_9ab5_f8a2d6cb6564row2_col2\" class=\"data row2 col2\" >$44.10</td>\n",
       "            </tr>\n",
       "            <tr>\n",
       "                        <th id=\"T_d2ac509e_7459_11ea_9ab5_f8a2d6cb6564level0_row3\" class=\"row_heading level0 row3\" >145</th>\n",
       "                        <th id=\"T_d2ac509e_7459_11ea_9ab5_f8a2d6cb6564level1_row3\" class=\"row_heading level1 row3\" >Fiery Glass Crusader</th>\n",
       "                        <td id=\"T_d2ac509e_7459_11ea_9ab5_f8a2d6cb6564row3_col0\" class=\"data row3 col0\" >9</td>\n",
       "                        <td id=\"T_d2ac509e_7459_11ea_9ab5_f8a2d6cb6564row3_col1\" class=\"data row3 col1\" >$4.58</td>\n",
       "                        <td id=\"T_d2ac509e_7459_11ea_9ab5_f8a2d6cb6564row3_col2\" class=\"data row3 col2\" >$41.22</td>\n",
       "            </tr>\n",
       "            <tr>\n",
       "                        <th id=\"T_d2ac509e_7459_11ea_9ab5_f8a2d6cb6564level0_row4\" class=\"row_heading level0 row4\" >103</th>\n",
       "                        <th id=\"T_d2ac509e_7459_11ea_9ab5_f8a2d6cb6564level1_row4\" class=\"row_heading level1 row4\" >Singed Scalpel</th>\n",
       "                        <td id=\"T_d2ac509e_7459_11ea_9ab5_f8a2d6cb6564row4_col0\" class=\"data row4 col0\" >8</td>\n",
       "                        <td id=\"T_d2ac509e_7459_11ea_9ab5_f8a2d6cb6564row4_col1\" class=\"data row4 col1\" >$4.35</td>\n",
       "                        <td id=\"T_d2ac509e_7459_11ea_9ab5_f8a2d6cb6564row4_col2\" class=\"data row4 col2\" >$34.80</td>\n",
       "            </tr>\n",
       "    </tbody></table>"
      ],
      "text/plain": [
       "<pandas.io.formats.style.Styler at 0x1f985fa5ac8>"
      ]
     },
     "execution_count": 251,
     "metadata": {},
     "output_type": "execute_result"
    }
   ],
   "source": [
    "popular_items_descending_tpv = popular_items_df.sort_values([\"Total Purchase Value\"],ascending=False).head()\n",
    "\n",
    "\n",
    "popular_items_descending_tpv.style.format({\"Total Purchase Value\": \"${:,.2f}\"})\n"
   ]
  },
  {
   "cell_type": "markdown",
   "metadata": {},
   "source": [
    "Observations:\n",
    "1.\tMales represent 84% of the total player base of this game. They spend more than any other gender group. However, both Females and Others had a higher average purchase price and a higher average total purchase per person. \n",
    "2.\tConsidering age demographics, people in their 20s represented over 50% of the player base in this game. People in their early 20s represent the largest total purchase value, though they are the most populous age group. Yet, people from 35-39 spent more money per person than any of the other groups. \n",
    "3.\tNone of the top five spenders in this game spent more than $20 in this game. This seems quite low from my cursory knowledge of mobile games, and the idea that mobile games survive off of “whales”. I would also be interested in running some reports on the number of players that have never spent any money in this game, and what percentage of players that represents. \n"
   ]
  },
  {
   "cell_type": "code",
   "execution_count": null,
   "metadata": {},
   "outputs": [],
   "source": []
  }
 ],
 "metadata": {
  "anaconda-cloud": {},
  "kernel_info": {
   "name": "python3"
  },
  "kernelspec": {
   "display_name": "Python 3",
   "language": "python",
   "name": "python3"
  },
  "language_info": {
   "codemirror_mode": {
    "name": "ipython",
    "version": 3
   },
   "file_extension": ".py",
   "mimetype": "text/x-python",
   "name": "python",
   "nbconvert_exporter": "python",
   "pygments_lexer": "ipython3",
   "version": "3.7.4"
  },
  "latex_envs": {
   "LaTeX_envs_menu_present": true,
   "autoclose": false,
   "autocomplete": true,
   "bibliofile": "biblio.bib",
   "cite_by": "apalike",
   "current_citInitial": 1,
   "eqLabelWithNumbers": true,
   "eqNumInitial": 1,
   "hotkeys": {
    "equation": "Ctrl-E",
    "itemize": "Ctrl-I"
   },
   "labels_anchors": false,
   "latex_user_defs": false,
   "report_style_numbering": false,
   "user_envs_cfg": false
  },
  "nteract": {
   "version": "0.2.0"
  }
 },
 "nbformat": 4,
 "nbformat_minor": 2
}
